{
 "cells": [
  {
   "cell_type": "code",
   "execution_count": 1,
   "metadata": {},
   "outputs": [],
   "source": [
    "# #Testing\n",
    "# import numpy as np\n",
    "\n",
    "# a = np.ones((5, 1))\n",
    "# b = np.ones((1, 5))\n",
    "# b@a\n"
   ]
  },
  {
   "cell_type": "code",
   "execution_count": 2,
   "metadata": {},
   "outputs": [
    {
     "name": "stdout",
     "output_type": "stream",
     "text": [
      "[\"'bat'\" \"'rabbit'\" \"'kangaroo'\" \"'skunk'\" \"'hyena'\" \"'rat'\" \"'dog'\"\n",
      " \"'cat'\" \"'lion'\" \"'ape'\" \"'walrus'\" \"'bear'\" \"'elephant'\" \"'antelop'\"\n",
      " \"'giraffe'\" \"'camel'\" \"'pig'\" \"'horse'\" \"'penguin'\" \"'pelican'\"\n",
      " \"'ostrich'\" \"'duck'\" \"'seaturtle'\" \"'frog'\" \"'crocodile'\" \"'moskito'\"\n",
      " \"'housefly'\" \"'spider'\" \"'grasshopper'\" \"'dragonfly'\" \"'butterfly'\"\n",
      " \"'beetle'\"]\n"
     ]
    }
   ],
   "source": [
    "import numpy as np\n",
    "\n",
    "props = np.genfromtxt(\"./data_lab2/animals.dat\", delimiter=',')\n",
    "props = np.reshape(props, (32, 84))\n",
    "\n",
    "animal_names = np.genfromtxt(\"./data_lab2/animalnames.txt\", dtype='str')\n",
    "\n",
    "\n",
    "nodesNb = 100\n",
    "\n",
    "def find_winner(animal, W):\n",
    "\n",
    "    d = np.linalg.norm(p-W, axis=1)\n",
    "    return np.argmin(d)\n",
    "\n",
    "epochsNb = 20\n",
    "\n",
    "animalNb = props.shape[0]\n",
    "attNb = props.shape[1]\n",
    "W = np.random.uniform(0, 1, (nodesNb, attNb))\n",
    "eta = 0.2\n",
    "\n",
    "for epoch in range(epochsNb):\n",
    "\n",
    "    #Update neighbourh_size\n",
    "    neighbourh_size = 50 - 2.5*epoch\n",
    "\n",
    "    for animal in range(animalNb):\n",
    "        #Choose current animal\n",
    "        p = props[animal, :]\n",
    "\n",
    "        #Find the idx of the row of the weight matrix w/ shortest dist\n",
    "        winner = find_winner(p, W)\n",
    "\n",
    "        lower_bound = winner - int(neighbourh_size/2)\n",
    "        upper_bound = (winner + int(neighbourh_size/2))%100\n",
    "        \n",
    "        W[lower_bound:upper_bound+1, :] += eta * ( p - W[lower_bound:upper_bound+1, :] )\n",
    "    \n",
    "\n",
    "\n",
    "pos = []\n",
    "for animal in range(animalNb):\n",
    "\n",
    "    p = props[animal, :]\n",
    "    winner = find_winner(animal, W)\n",
    "\n",
    "    pos.append(winner)\n",
    "\n",
    "ordered_output = np.argsort(pos)\n",
    "print(animal_names[ordered_output])"
   ]
  },
  {
   "cell_type": "code",
   "execution_count": 3,
   "metadata": {},
   "outputs": [
    {
     "data": {
      "image/png": "[encoded data removed]",
      "text/plain": [
       "<Figure size 432x288 with 1 Axes>"
      ]
     },
     "metadata": {
      "needs_background": "light"
     },
     "output_type": "display_data"
    }
   ],
   "source": [
    "import numpy as np\n",
    "import pandas as pd\n",
    "import matplotlib.pyplot as plt\n",
    "\n",
    "# Data loading\n",
    "cities = pd.read_csv(\"./data_lab2/cities.dat\", sep=',', skiprows=2)\n",
    "cities = cities.to_numpy()\n",
    "# Removing ';' char\n",
    "for i in range(cities.shape[0]):\n",
    "    cities[i, 1] = cities[i, 1][:-1]\n",
    "cities = np.asarray(cities, dtype=np.float64) #str to float\n",
    "\n",
    "nodesNb = 10\n",
    "\n",
    "def find_winner(cities, W):\n",
    "\n",
    "    d = np.linalg.norm(p-W, axis=1)\n",
    "    return np.argmin(d)\n",
    "\n",
    "epochsNb = 100\n",
    "\n",
    "citiesNb = cities.shape[0]\n",
    "attNb = cities.shape[1]\n",
    "W = np.random.uniform(0, 1, (nodesNb, attNb))\n",
    "eta = 0.2\n",
    "\n",
    "for epoch in range(epochsNb):\n",
    "\n",
    "    #Update neighbourh_size\n",
    "    neighbourh_size = 2 - 0.1*epoch\n",
    "\n",
    "    for city in range(citiesNb):\n",
    "        #Choose current animal\n",
    "        p = cities[city, :]\n",
    "\n",
    "        #Find the idx of the row of the weight matrix w/ shortest dist\n",
    "        winner = find_winner(p, W)\n",
    "\n",
    "        lower_bound = winner - int(neighbourh_size/2)\n",
    "        upper_bound = (winner + int(neighbourh_size/2))%100\n",
    "\n",
    "        # print(lower_bound, upper_bound)\n",
    "        \n",
    "        W[lower_bound:upper_bound+1, :] += eta * ( p - W[lower_bound:upper_bound+1, :] )\n",
    "    \n",
    "\n",
    "\n",
    "pos = []\n",
    "for city in range(citiesNb):\n",
    "\n",
    "    p = cities[city, :]\n",
    "    winner = find_winner(city, W)\n",
    "\n",
    "    pos.append(winner)\n",
    "\n",
    "ordered_cities = np.argsort(pos)\n",
    "\n",
    "plt.scatter(cities[:, 0], cities[:, 1])\n",
    "for i in range(citiesNb-1):\n",
    "    plt.plot( (cities[ordered_cities][i, 0], cities[ordered_cities][i+1, 0]),\\\n",
    "        (cities[ordered_cities][i, 1], cities[ordered_cities][i+1, 1]), label=str(i))\n",
    "leg = plt.legend()\n",
    "plt.xlim([0, 1.1])\n",
    "plt.xlabel('x_coord')\n",
    "plt.ylabel('y_coord')\n",
    "plt.title(f\"Cyclic tour: eta={eta}, epochsNb={epochsNb}\")\n",
    "plt.show()\n"
   ]
  },
  {
   "cell_type": "code",
   "execution_count": 8,
   "metadata": {},
   "outputs": [],
   "source": [
    "import numpy.linalg as la\n",
    "\n",
    "def find_winner(weights, row):\n",
    "    d = np.linalg.norm(weights-row, axis=1)\n",
    "    return np.argmin(d)\n",
    "\n",
    "\n",
    "def som_votes(inputs, outputsize, learning_rate, epochs, neighbourhood_init,seed=1):\n",
    "    \n",
    "    \n",
    "    neighbourhood = neighbourhood_init\n",
    "    step = neighbourhood_init/epochs\n",
    "    \n",
    "    # Definition of neighbourhood indices\n",
    "    out_indice = np.arange(np.prod(outputsize)).reshape(outputsize)     \n",
    "    # np.prod : Return the product of array elements over a given axis.\n",
    "    \n",
    "    # Init of weights\n",
    "    np.random.seed(seed)\n",
    "    W = np.random.uniform(0, 1, size=(np.prod(outputsize), inputs.shape[1]))\n",
    "\n",
    "    for _ in range(epochs): #iteration per epoch\n",
    "        for row in inputs: # iteration per sample because we have a time serie\n",
    "            \n",
    "            winner = find_winner(W, row)# Find the winner output node\n",
    "            # Find the indexes of neighbourhood\n",
    "            n_r = int(neighbourhood)\n",
    "\n",
    "            win_axis_x, win_axis_y = np.unravel_index(winner, outputsize) # Bc we are on a grid\n",
    "            # np.unravel_index : Converts a flat array of flat indices into a tuple of coordinate arrays.\n",
    "\n",
    "            ind = []\n",
    "            for i in range(out_indice.shape[0]):\n",
    "                for j in range(out_indice.shape[1]):\n",
    "                    if (abs(win_axis_x-i)+abs(win_axis_y-j))<=n_r:\n",
    "                        ind.append(out_indice[i,j])\n",
    "\n",
    "            delta = learning_rate * (row - W[ind,:])\n",
    "            W[ind,:] += delta\n",
    "\n",
    "        neighbourhood -= step\n",
    "    \n",
    "    predicted_output_node = [] \n",
    "    for row in inputs :\n",
    "        predicted_output_node.append(find_winner(W, row))\n",
    "    order_inputs = np.argsort(predicted_output_node) #Returns the indices that would sort an array.\n",
    "    \n",
    "    return np.array(predicted_output_node), order_inputs, W\n"
   ]
  },
  {
   "cell_type": "code",
   "execution_count": 9,
   "metadata": {},
   "outputs": [],
   "source": [
    "import pandas as pd\n",
    "\n",
    "df = pd.read_csv(\"./data_lab2/mpparty.dat\", sep=',', comment='%', names=[\"party\"])\n",
    "df[\"sex\"] = pd.read_csv(\"./data_lab2/mpsex.dat\", comment='%', names=[\"sex\"])\n",
    "df[\"district\"] = pd.read_csv(\"./data_lab2/mpdistrict.dat\", comment='%', names=[\"district\"])\n",
    "\n",
    "votes = np.genfromtxt('data_lab2/votes.dat', delimiter=',').reshape(349, 31)\n",
    "votes_names = [\"votes \"+str(i) for i in range(31)]\n",
    "df[votes_names] = pd.DataFrame(votes, index=range(349), columns=votes_names)\n",
    "\n",
    "party = np.genfromtxt('data_lab2/mpparty.dat', comments='%', dtype=np.uint8) #Load data from a text file, with missing values handled as specified.\n",
    "district = np.genfromtxt('data_lab2/mpdistrict.dat', comments='%', dtype=np.uint8)\n",
    "sex = np.genfromtxt('data_lab2/mpsex.dat', comments='%', dtype=np.uint8) \n",
    "Criterion = [\"Party\",\"District\",\"Sex\"]\n",
    "mp_criterion = np.column_stack((party,district,sex)) # Take a sequence of 1-D arrays and stack them as columns to make a single 2-D array\n",
    "Names = [\n",
    "    [\"Without Party\",\"Moderate Party\",\"Liberal People's Party\",\"Social Democrats\",\"Left Party\",\n",
    "     \"Green Party\",\"Christian Democrats\",\"Centre Party\"],\n",
    "    [\"District \"+str(d) for d in np.unique(district)],\n",
    "    [\"Male\",\"Female\"]\n",
    "]\n",
    "Party_colors = ['black','azure','blue','red','crimson','green','darkblue','darkgreen']\n"
   ]
  },
  {
   "cell_type": "code",
   "execution_count": 14,
   "metadata": {},
   "outputs": [
    {
     "name": "stderr",
     "output_type": "stream",
     "text": [
      "No artists with labels found to put in legend.  Note that artists whose label start with an underscore are ignored when legend() is called with no argument.\n",
      "No artists with labels found to put in legend.  Note that artists whose label start with an underscore are ignored when legend() is called with no argument.\n",
      "No artists with labels found to put in legend.  Note that artists whose label start with an underscore are ignored when legend() is called with no argument.\n"
     ]
    },
    {
     "data": {
      "image/png": "[encoded data removed]",
      "text/plain": [
       "<Figure size 432x432 with 1 Axes>"
      ]
     },
     "metadata": {
      "needs_background": "light"
     },
     "output_type": "display_data"
    },
    {
     "data": {
      "image/png": "[encoded data removed]",
      "text/plain": [
       "<Figure size 432x432 with 1 Axes>"
      ]
     },
     "metadata": {
      "needs_background": "light"
     },
     "output_type": "display_data"
    },
    {
     "data": {
      "image/png": "[encoded data removed]",
      "text/plain": [
       "<Figure size 432x432 with 1 Axes>"
      ]
     },
     "metadata": {
      "needs_background": "light"
     },
     "output_type": "display_data"
    }
   ],
   "source": [
    "outputsize=(10,10)\n",
    "predicted_output_node, order_inputs, weights = som_votes(votes, outputsize, learning_rate=0.1, epochs=1000, neighbourhood_init=4)\n",
    "\n",
    "# Define a function to add noise to points and then do not plot all points in exactly same coordinate\n",
    "def noisy_index(point, noise=0.5):\n",
    "    return point.astype(float)+np.random.uniform(-noise, noise, size=point.shape)\n",
    "\n",
    "\n",
    "i = 1\n",
    "# Iterate feature names\n",
    "for cri in range(len(Criterion)):\n",
    "    fig = plt.figure(figsize=(6,6))  \n",
    "    \n",
    "    # Iterate unique values in that feature\n",
    "    for val in np.unique(mp_criterion[:,cri]):\n",
    "\n",
    "        # Find the output node assigned to each minister with that feature value\n",
    "        x, y = np.unravel_index(predicted_output_node[mp_criterion[:,cri]==val], outputsize)\n",
    "        \n",
    "        # Plot the position in output space of each minister with that feature value\n",
    "        plt.scatter(noisy_index(x), noisy_index(y), s=20, alpha=1, label=Names[cri][val-1])\n",
    "        \n",
    "    \n",
    "    # Edit the plot\n",
    "    \n",
    "    plt.title(Criterion[cri], fontsize=30, y=1.02)\n",
    "    plt.xticks(np.arange(-0.5, outputsize[0]-0.5, 1), labels=[])\n",
    "    plt.yticks(np.arange(-0.5, outputsize[1]-0.5, 1), labels=[])\n",
    "    plt.grid(True)\n",
    "    plt.xlim([-0.5, outputsize[0]-0.5])\n",
    "    plt.ylim([-0.5, outputsize[1]-0.5])\n",
    "    plt.legend(loc='center left', bbox_to_anchor=(1,0.5))\n",
    "\n"
   ]
  }
 ],
 "metadata": {
  "interpreter": {
   "hash": "916dbcbb3f70747c44a77c7bcd40155683ae19c65e1c03b4aa3499c5328201f1"
  },
  "kernelspec": {
   "display_name": "Python 3.8.10 64-bit",
   "language": "python",
   "name": "python3"
  },
  "language_info": {
   "codemirror_mode": {
    "name": "ipython",
    "version": 3
   },
   "file_extension": ".py",
   "mimetype": "text/x-python",
   "name": "python",
   "nbconvert_exporter": "python",
   "pygments_lexer": "ipython3",
   "version": "3.9.9"
  },
  "orig_nbformat": 4
 },
 "nbformat": 4,
 "nbformat_minor": 2
}
